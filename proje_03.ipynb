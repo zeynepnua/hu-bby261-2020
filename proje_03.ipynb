{
  "nbformat": 4,
  "nbformat_minor": 0,
  "metadata": {
    "colab": {
      "name": "proje_03",
      "provenance": [],
      "authorship_tag": "ABX9TyO2y5+hZi1oSKP347eyTBSS",
      "include_colab_link": true
    },
    "kernelspec": {
      "name": "python3",
      "display_name": "Python 3"
    }
  },
  "cells": [
    {
      "cell_type": "markdown",
      "metadata": {
        "id": "view-in-github",
        "colab_type": "text"
      },
      "source": [
        "<a href=\"https://colab.research.google.com/github/zeynepnua/hu-bby261-2020/blob/main/proje_03.ipynb\" target=\"_parent\"><img src=\"https://colab.research.google.com/assets/colab-badge.svg\" alt=\"Open In Colab\"/></a>"
      ]
    },
    {
      "cell_type": "code",
      "metadata": {
        "colab": {
          "base_uri": "https://localhost:8080/",
          "height": 741
        },
        "id": "k0gRnn8RXMfL",
        "outputId": "3faf8bb0-04c6-43e5-bc30-0848c1f31c15"
      },
      "source": [
        "import matplotlib.pyplot as plt\n",
        "import tensorflow as tf\n",
        "(x_train, y_train), (x_test, y_test) = tf.keras.datasets.mnist.load_data()\n",
        "\n",
        "x_train = x_train.reshape(x_train.shape[0], 28, 28, 1)\n",
        "x_test = x_test.reshape(x_test.shape[0], 28, 28, 1)\n",
        "input_shape = (28, 28, 1)\n",
        "\n",
        "x_train = x_train.astype('float32')\n",
        "x_test = x_test.astype('float32')\n",
        "\n",
        "x_train /= 255\n",
        "x_test /= 255\n",
        "print('x_train shape:', x_train.shape)\n",
        "print('Number of images in x_train', x_train.shape[0])\n",
        "print('Number of images in x_test', x_test.shape[0])\n",
        "\n",
        "from tensorflow.keras.models import Sequential\n",
        "from tensorflow.keras.layers import Dense, Conv2D, Dropout, Flatten, MaxPooling2D\n",
        "\n",
        "model = Sequential()\n",
        "model.add(Conv2D(28, kernel_size=(3,3), input_shape=input_shape))\n",
        "model.add(MaxPooling2D(pool_size=(2, 2)))\n",
        "model.add(Flatten()) \n",
        "model.add(Dense(128, activation=tf.nn.relu))\n",
        "model.add(Dropout(0.2))\n",
        "model.add(Dense(10,activation=tf.nn.softmax))\n",
        "\n",
        "model.compile(optimizer='adam', \n",
        "              loss='sparse_categorical_crossentropy', \n",
        "              metrics=['accuracy'])\n",
        "model.fit(x=x_train,y=y_train, epochs=10)\n",
        "\n",
        "model.evaluate(x_test, y_test)\n",
        "\n",
        "from PIL import Image\n",
        "import numpy as np\n",
        "\n",
        "png = Image.open(\"/content/Adsız.png\").convert(\"L\")\n",
        "png = np.resize(png, (28,28,1))\n",
        "pngBinary = np.array(png)\n",
        "plt.imshow(pngBinary.reshape(28, 28),cmap='gray')\n",
        "\n",
        "modeltahmin = model.predict(pngBinary.reshape(1, 28, 28, 1))\n",
        "sayıtahmin = np.argmax(model.predict(pngBinary.reshape(1, 28, 28, 1)), axis=-1)\n",
        "\n",
        "print(modeltahmin)\n",
        "print(sayıtahmin)"
      ],
      "execution_count": 1,
      "outputs": [
        {
          "output_type": "stream",
          "text": [
            "Downloading data from https://storage.googleapis.com/tensorflow/tf-keras-datasets/mnist.npz\n",
            "11493376/11490434 [==============================] - 0s 0us/step\n",
            "x_train shape: (60000, 28, 28, 1)\n",
            "Number of images in x_train 60000\n",
            "Number of images in x_test 10000\n",
            "Epoch 1/10\n",
            "1875/1875 [==============================] - 30s 16ms/step - loss: 0.2155 - accuracy: 0.9361\n",
            "Epoch 2/10\n",
            "1875/1875 [==============================] - 31s 16ms/step - loss: 0.0876 - accuracy: 0.9737\n",
            "Epoch 3/10\n",
            "1875/1875 [==============================] - 30s 16ms/step - loss: 0.0609 - accuracy: 0.9804\n",
            "Epoch 4/10\n",
            "1875/1875 [==============================] - 36s 19ms/step - loss: 0.0470 - accuracy: 0.9846\n",
            "Epoch 5/10\n",
            "1875/1875 [==============================] - 31s 16ms/step - loss: 0.0377 - accuracy: 0.9876\n",
            "Epoch 6/10\n",
            "1875/1875 [==============================] - 31s 16ms/step - loss: 0.0296 - accuracy: 0.9903\n",
            "Epoch 7/10\n",
            "1875/1875 [==============================] - 31s 17ms/step - loss: 0.0254 - accuracy: 0.9911\n",
            "Epoch 8/10\n",
            "1875/1875 [==============================] - 31s 16ms/step - loss: 0.0228 - accuracy: 0.9926\n",
            "Epoch 9/10\n",
            "1875/1875 [==============================] - 31s 16ms/step - loss: 0.0217 - accuracy: 0.9929\n",
            "Epoch 10/10\n",
            "1875/1875 [==============================] - 31s 16ms/step - loss: 0.0184 - accuracy: 0.9938\n",
            "313/313 [==============================] - 2s 6ms/step - loss: 0.0657 - accuracy: 0.9836\n",
            "[[0. 0. 0. 0. 0. 0. 0. 1. 0. 0.]]\n",
            "[7]\n"
          ],
          "name": "stdout"
        },
        {
          "output_type": "display_data",
          "data": {
            "image/png": "[encoded data removed]",
            "text/plain": [
              "<Figure size 432x288 with 1 Axes>"
            ]
          },
          "metadata": {
            "tags": [],
            "needs_background": "light"
          }
        }
      ]
    }
  ]
}