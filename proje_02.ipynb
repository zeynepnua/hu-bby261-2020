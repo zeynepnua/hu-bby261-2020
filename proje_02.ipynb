{
  "nbformat": 4,
  "nbformat_minor": 0,
  "metadata": {
    "colab": {
      "name": "proje_02.ipynb",
      "provenance": [],
      "authorship_tag": "ABX9TyPfFLn+Avd2sG6VEgn3/Pz5",
      "include_colab_link": true
    },
    "kernelspec": {
      "name": "python3",
      "display_name": "Python 3"
    }
  },
  "cells": [
    {
      "cell_type": "markdown",
      "metadata": {
        "id": "view-in-github",
        "colab_type": "text"
      },
      "source": [
        "<a href=\"https://colab.research.google.com/github/zeynepnua/hu-bby261-2020/blob/main/proje_02.ipynb\" target=\"_parent\"><img src=\"https://colab.research.google.com/assets/colab-badge.svg\" alt=\"Open In Colab\"/></a>"
      ]
    },
    {
      "cell_type": "code",
      "metadata": {
        "id": "I-rM6ACABdvo"
      },
      "source": [
        "import tensorflow as tf\n",
        "import numpy as np\n",
        "import logging\n",
        "import matplotlib.pyplot as plt\n",
        "logger = tf.get_logger()\n",
        "logger.setLevel(logging.ERROR)\n",
        "\n",
        "mil = np.array([1.24, 1.86, 2.49, 3.11, 11.18, 62.13], dtype= float)\n",
        "km = np.array([2, 3, 4, 5, 18, 100], dtype= float)\n",
        "\n",
        "kullanıcı = int(input(\"Mili kmye çevirmek için 1, kmyi mile çevirmek için 2 giriniz, İşlem seçiniz: \"))\n",
        "if kullanıcı == 1 :\n",
        "  for i,c in enumerate(mil):\n",
        "    print(\"{} mil = {} km\". format(c, km[i]))\n",
        "  l0= tf.keras.layers.Dense(units=1, input_shape=[1])\n",
        "  model= tf.keras.Sequential([l0])\n",
        "\n",
        "  model.compile(loss='mean_squared_error', optimizer=tf.keras.optimizers.Adam(0.1))\n",
        "\n",
        "  kullanıcı2 = int(input(\"Öğrenme sayısı belirleyiniz: \"))\n",
        "  history = model.fit(mil, km, epochs=kullanıcı2, verbose=False )\n",
        "  print(\"Öğrenmeyi tamamladı..\")\n",
        "\n",
        "  plt.xlabel('Döngü')\n",
        "  plt.ylabel('Loss')\n",
        "  plt.plot(history.history['loss'])\n",
        "  \n",
        "  kullanıcı3 = float(input(\"Sonucu tahmin ediniz: \"))\n",
        "  print(\"Tahmininiz: {} mil\". format(model.predict([kullanıcı3])))\n",
        "  print(\"Gerçek değeri: {} mil\". format(kullanıcı3/0.62))\n",
        "\n",
        "elif kullanıcı == 2:\n",
        "  for i,c in enumerate(km):\n",
        "    print(\"{} km = {} mil\".format(c, mil[i]))\n",
        "  \n",
        "  l0 = tf.keras.layers.Dense(units=1, input_shape=[1])\n",
        "  model = tf.keras.Sequential([l0])\n",
        "  \n",
        "  model.compile(loss='mean_squared_error', optimizer=tf.keras.optimizers.Adam(0.1))\n",
        "\n",
        "  kullanıcı2 = int(input(\"Öğrenme sayısı belirleyiniz: \"))\n",
        "  history = model.fit(km, mil, epochs=kullanıcı2, verbose=False)\n",
        "  print(\"Öğrenmeyi Tamamladı..\")\n",
        "\n",
        "  plt.xlabel('Döngü')\n",
        "  plt.ylabel('Loss')\n",
        "  plt.plot(history.history['loss'])\n",
        "\n",
        "  kullanıcı3 = float(input(\"Sonucu tahmin ediniz: \"))\n",
        "  print(\"Tahmininiz: {} km \".format(model.predict([kullanıcı3])))\n",
        "  print(\"Gerçek değeri: {} km\".format(kullanıcı3*0.62))\n"
      ],
      "execution_count": null,
      "outputs": []
    }
  ]
}