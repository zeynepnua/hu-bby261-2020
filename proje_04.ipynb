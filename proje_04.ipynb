{
  "nbformat": 4,
  "nbformat_minor": 0,
  "metadata": {
    "colab": {
      "name": "proje_04.ipynb ",
      "provenance": [],
      "toc_visible": true,
      "mount_file_id": "1MnW8gdCrpnQiIf2O65mYHTDgCvUpCgnq",
      "authorship_tag": "ABX9TyNhL082ipxnUksSlcAYFHWJ",
      "include_colab_link": true
    },
    "kernelspec": {
      "name": "python3",
      "display_name": "Python 3"
    }
  },
  "cells": [
    {
      "cell_type": "markdown",
      "metadata": {
        "id": "view-in-github",
        "colab_type": "text"
      },
      "source": [
        "<a href=\"https://colab.research.google.com/github/zeynepnua/hu-bby261-2020/blob/main/proje_04.ipynb\" target=\"_parent\"><img src=\"https://colab.research.google.com/assets/colab-badge.svg\" alt=\"Open In Colab\"/></a>"
      ]
    },
    {
      "cell_type": "code",
      "metadata": {
        "id": "2XatzytG_UkD",
        "colab": {
          "base_uri": "https://localhost:8080/"
        },
        "outputId": "5f7013c3-887f-4f2b-c2f1-87fde040d064"
      },
      "source": [
        "from google.colab import drive\n",
        "import string\n",
        "drive.mount('/content/drive')\n",
        "dosya = \"/content/drive/MyDrive/Colab Notebooks/sezar.txt\"\n",
        "dosya2 = \"/content/drive/MyDrive/Colab Notebooks/Yeni Metin Belgesi.txt\"\n",
        "tumAlfabe = string.printable\n",
        "alfabe = [\"ç\", \"ğ\", \"ı\", \"ö\", \"ş\", \"ü\", \"Ç\", \"Ğ\", \"İ\", \"Ö\", \"Ş\", \"Ü\",\"\\ufeff\"]\n",
        "for ka in tumAlfabe:\n",
        "  alfabe.append(ka)\n",
        "print(\"Sezar Şifreleme Uygulamasına Hoşgeldiniz\")\n",
        "uyg = int(input(\"Şifrelenecek cümleyi yazdırmak için 1, şifrelenmiş cümleyi yazdırmak için 2, şifrelenmiş cümleyi anahtarsız yazmak için 3 giriniz: \"))\n",
        "#1\n",
        "if uyg == 1 :\n",
        " f = open(dosya,\"r\")\n",
        " for line in f. readlines():\n",
        "   print(line)\n",
        " def yazi1():\n",
        "   yazi = str(line)\n",
        "   return yazi\n",
        " def sifreleme(yazi):\n",
        "   sayi = int(input(\"Anahtar giriniz: \"))\n",
        "   cumleSifreli1 = \"\"\n",
        "   for i in yazi: \n",
        "      \n",
        "     cumleSifreli1 += alfabe[(alfabe.index(i)+sayi) % len(alfabe)]\n",
        "   print(\"Şifrelenmiş cümle: \"+cumleSifreli1)\n",
        "#2\n",
        "elif uyg == 2 :\n",
        " f = open(dosya2,\"r\")\n",
        " for line in f. readlines():\n",
        "   print(line)\n",
        " def yazi2():\n",
        "   yazi3 = str(line)\n",
        "   return yazi3\n",
        " def sifrecoz(yazi3):\n",
        "   sayi = int(input(\"Anahtar giriniz: \"))\n",
        "   cumleSifresiz1 = \"\"\n",
        "   for i in yazi3 :\n",
        "     cumleSifresiz1 += alfabe[(alfabe.index(i)-sayi) % len(alfabe)]\n",
        "   print(\"Şifresiz Cümle: \"+cumleSifresiz1)\n",
        "#3\n",
        "elif uyg == 3 :\n",
        "  f = open(dosya2,\"r\")\n",
        "  for line in f. readlines():\n",
        "    print(line)\n",
        "  def yazi5():\n",
        "    yazi6 = str(line)\n",
        "    return yazi6 \n",
        "  def sifrecoz(yazi6):\n",
        "    cumleSifresiz = \"\"\n",
        "    for x in range(len(alfabe)):\n",
        "      for i in yazi6:  \n",
        "        cumleSifresiz += alfabe[(alfabe.index(i)-x) % len(alfabe)]\n",
        "      print(\"Anahtar: \"+str(x)+\" :\"+cumleSifresiz)\n",
        "      cumleSifresiz = \"\"\n",
        "\n",
        "seçim = 0 \n",
        "while True : \n",
        " seçim = int(input(\"Lutfen bir islem seciniz:\\n\"\n",
        "\n",
        "                  \"Şifrelemek için 1\\n\"\n",
        "\n",
        "                  \"Şifre kırmak için 2\\n\"\n",
        "\n",
        "                  \"Anahtarsız şifre kırmak için 3\\n\"  \n",
        "                   \n",
        "                  \"Çıkış için 4\\n\"))\n",
        " if seçim == 1 :\n",
        "   yazi = yazi1()\n",
        "   sifreleme(yazi)\n",
        " elif seçim == 2 : \n",
        "   yazi3 = yazi2()\n",
        "   sifrecoz(yazi3)\n",
        " elif seçim == 3 :\n",
        "   yazi6 = yazi5()\n",
        "   sifrecoz(yazi6)\n",
        " elif seçim == 4 :\n",
        "   break\n",
        "\n",
        "\n"
      ],
      "execution_count": 1,
      "outputs": [
        {
          "output_type": "stream",
          "text": [
            "Drive already mounted at /content/drive; to attempt to forcibly remount, call drive.mount(\"/content/drive\", force_remount=True).\n",
            "Sezar Şifreleme Uygulamasına Hoşgeldiniz\n",
            "Şifrelenecek cümleyi yazdırmak için 1, şifrelenmiş cümleyi yazdırmak için 2, şifrelenmiş cümleyi anahtarsız yazmak için 3 giriniz: 1\n",
            "﻿Anlamlı bir hayat yaşamak sıkıcı bir hayat yaşamak değildir\n",
            "Lutfen bir islem seciniz:\n",
            "Şifrelemek için 1\n",
            "Şifre kırmak için 2\n",
            "Anahtarsız şifre kırmak için 3\n",
            "Çıkış için 4\n",
            "1\n",
            "Anahtar giriniz: 2\n",
            "Şifrelenmiş cümle: 1Cpnconş\n",
            "dkt\n",
            "jcAcv\n",
            "AcÇcocm\n",
            "uşmşeş\n",
            "dkt\n",
            "jcAcv\n",
            "AcÇcocm\n",
            "fgöknfkt\n",
            "Lutfen bir islem seciniz:\n",
            "Şifrelemek için 1\n",
            "Şifre kırmak için 2\n",
            "Anahtarsız şifre kırmak için 3\n",
            "Çıkış için 4\n",
            "4\n"
          ],
          "name": "stdout"
        }
      ]
    }
  ]
}